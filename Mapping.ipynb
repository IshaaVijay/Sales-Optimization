{
 "cells": [
  {
   "cell_type": "code",
   "execution_count": 56,
   "id": "c9031e00",
   "metadata": {
    "scrolled": true
   },
   "outputs": [],
   "source": [
    "import pandas as pd\n",
    "import numpy as np\n",
    "import datetime\n",
    "import matplotlib.pyplot as plt\n",
    "import geopandas as gpd\n",
    "import fiona\n",
    "from mpl_toolkits.axes_grid1 import make_axes_locatable\n",
    "from bs4 import BeautifulSoup as soup\n",
    "from urllib.request import urlopen as uReq\n",
    "import re"
   ]
  },
  {
   "cell_type": "code",
   "execution_count": 57,
   "id": "ba5ca19c",
   "metadata": {},
   "outputs": [],
   "source": [
    "list_of_orders = pd.read_csv(r'C:\\Users\\ishaa\\Documents\\DataAnalysis\\List of Orders.csv')\n",
    "order_details = pd.read_csv(r'C:\\Users\\ishaa\\Documents\\DataAnalysis\\Order Details.csv')\n",
    "sales_target = pd.read_csv(r'C:\\Users\\ishaa\\Documents\\DataAnalysis\\Sales target.csv')"
   ]
  },
  {
   "cell_type": "code",
   "execution_count": 58,
   "id": "eeb098dd",
   "metadata": {},
   "outputs": [],
   "source": [
    "list_of_orders.isna().sum()\n",
    "order_details.isna().sum()\n",
    "sales_target.isna().sum()\n",
    "\n",
    "list_of_orders = list_of_orders.dropna()"
   ]
  },
  {
   "cell_type": "code",
   "execution_count": 59,
   "id": "9dd7d931",
   "metadata": {},
   "outputs": [],
   "source": [
    "type(sales_target['Month of Order Date'][0])\n",
    "type(list_of_orders['Order Date'][0])\n",
    "\n",
    "sales_target['Month of Order Date'] = pd.to_datetime(sales_target['Month of Order Date'], format = '%b-%y')\n",
    "sales_target['Month of Order Date'] = pd.to_datetime(sales_target['Month of Order Date']).dt.to_period('M')\n",
    "list_of_orders['Order Date'] = pd.to_datetime(list_of_orders['Order Date'])"
   ]
  },
  {
   "cell_type": "code",
   "execution_count": 60,
   "id": "44223a64",
   "metadata": {},
   "outputs": [],
   "source": [
    "temp = pd.merge(list_of_orders[['Order ID','Order Date']],\n",
    "                  order_details[['Order ID','Amount','Category']],\n",
    "                  on = 'Order ID')\n",
    "temp['Month of Order Date'] = pd.to_datetime(temp['Order Date']).dt.to_period('M')\n",
    "temp = temp.groupby(['Month of Order Date','Category']).sum().reset_index()"
   ]
  },
  {
   "cell_type": "code",
   "execution_count": 61,
   "id": "43f94ec8",
   "metadata": {},
   "outputs": [
    {
     "data": {
      "text/html": [
       "<div>\n",
       "<style scoped>\n",
       "    .dataframe tbody tr th:only-of-type {\n",
       "        vertical-align: middle;\n",
       "    }\n",
       "\n",
       "    .dataframe tbody tr th {\n",
       "        vertical-align: top;\n",
       "    }\n",
       "\n",
       "    .dataframe thead th {\n",
       "        text-align: right;\n",
       "    }\n",
       "</style>\n",
       "<table border=\"1\" class=\"dataframe\">\n",
       "  <thead>\n",
       "    <tr style=\"text-align: right;\">\n",
       "      <th></th>\n",
       "      <th>Month of Order Date</th>\n",
       "      <th>Category</th>\n",
       "      <th>Target</th>\n",
       "      <th>Amount</th>\n",
       "    </tr>\n",
       "  </thead>\n",
       "  <tbody>\n",
       "    <tr>\n",
       "      <th>0</th>\n",
       "      <td>2018-04</td>\n",
       "      <td>Furniture</td>\n",
       "      <td>10400.0</td>\n",
       "      <td>6570.0</td>\n",
       "    </tr>\n",
       "    <tr>\n",
       "      <th>1</th>\n",
       "      <td>2018-04</td>\n",
       "      <td>Clothing</td>\n",
       "      <td>12000.0</td>\n",
       "      <td>10743.0</td>\n",
       "    </tr>\n",
       "    <tr>\n",
       "      <th>2</th>\n",
       "      <td>2018-04</td>\n",
       "      <td>Electronics</td>\n",
       "      <td>9000.0</td>\n",
       "      <td>8857.0</td>\n",
       "    </tr>\n",
       "    <tr>\n",
       "      <th>3</th>\n",
       "      <td>2018-05</td>\n",
       "      <td>Furniture</td>\n",
       "      <td>10500.0</td>\n",
       "      <td>4677.0</td>\n",
       "    </tr>\n",
       "    <tr>\n",
       "      <th>4</th>\n",
       "      <td>2018-05</td>\n",
       "      <td>Clothing</td>\n",
       "      <td>12000.0</td>\n",
       "      <td>6986.0</td>\n",
       "    </tr>\n",
       "  </tbody>\n",
       "</table>\n",
       "</div>"
      ],
      "text/plain": [
       "  Month of Order Date     Category   Target   Amount\n",
       "0             2018-04    Furniture  10400.0   6570.0\n",
       "1             2018-04     Clothing  12000.0  10743.0\n",
       "2             2018-04  Electronics   9000.0   8857.0\n",
       "3             2018-05    Furniture  10500.0   4677.0\n",
       "4             2018-05     Clothing  12000.0   6986.0"
      ]
     },
     "execution_count": 61,
     "metadata": {},
     "output_type": "execute_result"
    }
   ],
   "source": [
    "target = pd.merge(sales_target, temp, on = 'Month of Order Date')\n",
    "target = target[target['Category_x'] == target['Category_y']].reset_index(drop=True)\n",
    "target = target.drop(columns = 'Category_y')\n",
    "target = target.rename(columns = {'Category_x':'Category'})\n",
    "target['Month of Order Date'] = target['Month of Order Date'].astype(str)\n",
    "target.head()"
   ]
  },
  {
   "cell_type": "code",
   "execution_count": 62,
   "id": "e3a692b0",
   "metadata": {},
   "outputs": [
    {
     "data": {
      "text/html": [
       "<div>\n",
       "<style scoped>\n",
       "    .dataframe tbody tr th:only-of-type {\n",
       "        vertical-align: middle;\n",
       "    }\n",
       "\n",
       "    .dataframe tbody tr th {\n",
       "        vertical-align: top;\n",
       "    }\n",
       "\n",
       "    .dataframe thead th {\n",
       "        text-align: right;\n",
       "    }\n",
       "</style>\n",
       "<table border=\"1\" class=\"dataframe\">\n",
       "  <thead>\n",
       "    <tr style=\"text-align: right;\">\n",
       "      <th></th>\n",
       "      <th>Month of Order Date</th>\n",
       "      <th>Category</th>\n",
       "      <th>Target</th>\n",
       "      <th>Amount</th>\n",
       "    </tr>\n",
       "  </thead>\n",
       "  <tbody>\n",
       "    <tr>\n",
       "      <th>12</th>\n",
       "      <td>2018-08</td>\n",
       "      <td>Furniture</td>\n",
       "      <td>10900.0</td>\n",
       "      <td>15259.0</td>\n",
       "    </tr>\n",
       "    <tr>\n",
       "      <th>14</th>\n",
       "      <td>2018-08</td>\n",
       "      <td>Electronics</td>\n",
       "      <td>9000.0</td>\n",
       "      <td>16740.0</td>\n",
       "    </tr>\n",
       "    <tr>\n",
       "      <th>20</th>\n",
       "      <td>2018-10</td>\n",
       "      <td>Electronics</td>\n",
       "      <td>9000.0</td>\n",
       "      <td>15537.0</td>\n",
       "    </tr>\n",
       "    <tr>\n",
       "      <th>21</th>\n",
       "      <td>2018-11</td>\n",
       "      <td>Furniture</td>\n",
       "      <td>11300.0</td>\n",
       "      <td>12465.0</td>\n",
       "    </tr>\n",
       "    <tr>\n",
       "      <th>23</th>\n",
       "      <td>2018-11</td>\n",
       "      <td>Electronics</td>\n",
       "      <td>9000.0</td>\n",
       "      <td>10531.0</td>\n",
       "    </tr>\n",
       "    <tr>\n",
       "      <th>26</th>\n",
       "      <td>2018-12</td>\n",
       "      <td>Electronics</td>\n",
       "      <td>9000.0</td>\n",
       "      <td>11915.0</td>\n",
       "    </tr>\n",
       "    <tr>\n",
       "      <th>27</th>\n",
       "      <td>2019-01</td>\n",
       "      <td>Furniture</td>\n",
       "      <td>11500.0</td>\n",
       "      <td>15944.0</td>\n",
       "    </tr>\n",
       "    <tr>\n",
       "      <th>29</th>\n",
       "      <td>2019-01</td>\n",
       "      <td>Electronics</td>\n",
       "      <td>16000.0</td>\n",
       "      <td>22637.0</td>\n",
       "    </tr>\n",
       "  </tbody>\n",
       "</table>\n",
       "</div>"
      ],
      "text/plain": [
       "   Month of Order Date     Category   Target   Amount\n",
       "12             2018-08    Furniture  10900.0  15259.0\n",
       "14             2018-08  Electronics   9000.0  16740.0\n",
       "20             2018-10  Electronics   9000.0  15537.0\n",
       "21             2018-11    Furniture  11300.0  12465.0\n",
       "23             2018-11  Electronics   9000.0  10531.0\n",
       "26             2018-12  Electronics   9000.0  11915.0\n",
       "27             2019-01    Furniture  11500.0  15944.0\n",
       "29             2019-01  Electronics  16000.0  22637.0"
      ]
     },
     "execution_count": 62,
     "metadata": {},
     "output_type": "execute_result"
    }
   ],
   "source": [
    "target[target['Amount'] >= target['Target']]"
   ]
  },
  {
   "cell_type": "code",
   "execution_count": 63,
   "id": "9b437a1e",
   "metadata": {},
   "outputs": [],
   "source": [
    "target['difference'] = target['Amount'] - target['Target']\n",
    "\n",
    "furniture = target[target['Category'] == 'Furniture'].drop(columns = 'Category').set_index('Month of Order Date')\n",
    "electronics = target[target['Category'] == 'Electronics'].drop(columns = 'Category').set_index('Month of Order Date')\n",
    "clothing = target[target['Category'] == 'Clothing'].drop(columns = 'Category').set_index('Month of Order Date')\n",
    "summation = target.groupby(['Month of Order Date']).sum()"
   ]
  },
  {
   "cell_type": "code",
   "execution_count": 64,
   "id": "5004545d",
   "metadata": {},
   "outputs": [
    {
     "data": {
      "image/png": "[encoded data removed]",
      "text/plain": [
       "<Figure size 720x504 with 1 Axes>"
      ]
     },
     "metadata": {
      "needs_background": "light"
     },
     "output_type": "display_data"
    }
   ],
   "source": [
    "plt.figure(figsize = (10,7))\n",
    "\n",
    "plt.plot(furniture['difference'], marker = '.', label = 'furniture')\n",
    "plt.plot(electronics['difference'], marker = '.', label = 'electronics')\n",
    "plt.plot(clothing['difference'], marker = '.', label = 'clothing')\n",
    "plt.plot(summation['difference'],linewidth = .5, label = 'summation')\n",
    "plt.legend()\n",
    "\n",
    "plt.axhline(y = 0, color = 'black', linewidth = .5)\n",
    "plt.xticks(summation.index[::2])\n",
    "plt.xlabel('Date', fontsize = 14)\n",
    "plt.ylabel('($)', fontsize = 14)\n",
    "plt.title('Difference between the real sales and the target sales', fontdict={'fontweight':'bold', 'fontsize':18})\n",
    "\n",
    "plt.show()\n"
   ]
  },
  {
   "cell_type": "code",
   "execution_count": 65,
   "id": "08a4c8cf",
   "metadata": {},
   "outputs": [],
   "source": [
    "filename = 'Cities.csv'\n",
    "headers = 'City,Latitude,Longitude\\n'\n",
    "\n",
    "f = open(filename, \"w\")\n",
    "f.write(headers)\n",
    "\n",
    "for j in range(1,9):    \n",
    "    page_url = f'https://www.latlong.net/category/cities-102-15-{j}.html'\n",
    "\n",
    "    uClient = uReq(page_url)\n",
    "    page_soup = soup(uClient.read(), \"html.parser\")\n",
    "    uClient.close()\n",
    "\n",
    "    rows = page_soup.findAll('tr')\n",
    "    rows = rows[1:]\n",
    "    \n",
    "    for row in rows:\n",
    "\n",
    "        cell = row.findAll('td')\n",
    "\n",
    "        City = cell[0].text\n",
    "        Latitude = cell[1].text\n",
    "        Longitude = cell[2].text\n",
    "\n",
    "        f.write(City.replace(',', '|') + ',' + Latitude + ',' + Longitude + '\\n')\n",
    "\n",
    "f.close()"
   ]
  },
  {
   "cell_type": "code",
   "execution_count": 66,
   "id": "0a719dd6",
   "metadata": {},
   "outputs": [],
   "source": [
    "cities = pd.read_csv(r'C:\\Users\\ishaa\\Documents\\DataAnalysis\\Cities.csv')\n",
    "cities['Latitude'].astype(float)\n",
    "cities['Longitude'].astype(float)\n",
    "cities['City'] = cities['City'].str.split('|',expand=False).loc[:]\n",
    "cities['City'] = cities['City'].str[0]"
   ]
  },
  {
   "cell_type": "code",
   "execution_count": 67,
   "id": "e73a63ad",
   "metadata": {},
   "outputs": [
    {
     "name": "stdout",
     "output_type": "stream",
     "text": [
      "Kashmir\n",
      "Simla\n",
      "Goa\n",
      "Kohima\n",
      "Allahabad\n"
     ]
    }
   ],
   "source": [
    "toiter = pd.DataFrame(list_of_orders['City'].unique())\n",
    "for index, row in toiter[0].iteritems():\n",
    "    if row in cities['City'].tolist():\n",
    "        pass\n",
    "    else:\n",
    "        print(row)"
   ]
  },
  {
   "cell_type": "code",
   "execution_count": 68,
   "id": "8facc801",
   "metadata": {},
   "outputs": [],
   "source": [
    "my_cities = pd.DataFrame(list_of_orders.groupby(['City']).count()['Order ID'])\n",
    "city_map = my_cities.merge(cities[['City','Longitude','Latitude']], how='left', on='City')\n",
    "city_map.set_index('City',inplace = True)"
   ]
  },
  {
   "cell_type": "code",
   "execution_count": 69,
   "id": "4d8c6c1f",
   "metadata": {},
   "outputs": [],
   "source": [
    "city_map.at['Allahabad','Latitude'] = 25.435113\n",
    "city_map.at['Allahabad','Longitude'] = 81.845084\n",
    "city_map.at['Goa','Latitude'] = 15.331737\n",
    "city_map.at['Goa','Longitude'] = 74.126248\n",
    "city_map.at['Kashmir','Latitude'] = 33.925603\n",
    "city_map.at['Kashmir','Longitude'] = 76.137685\n",
    "city_map.at['Kohima','Latitude'] = 25.674477\n",
    "city_map.at['Kohima','Longitude'] = 94.108727\n",
    "city_map.at['Simla','Latitude'] = 31.111610\n",
    "city_map.at['Simla','Longitude'] = 77.169854"
   ]
  },
  {
   "cell_type": "code",
   "execution_count": 70,
   "id": "b54862a0",
   "metadata": {},
   "outputs": [],
   "source": [
    "city_map = gpd.GeoDataFrame(city_map, \n",
    "                            geometry=gpd.points_from_xy(city_map.Longitude, city_map.Latitude))\n",
    "city_map.drop(columns = ['Longitude', 'Latitude','Order ID'], inplace = True)\n",
    "city_map.reset_index(inplace = True)"
   ]
  },
  {
   "cell_type": "code",
   "execution_count": 71,
   "id": "fdd55aed",
   "metadata": {
    "scrolled": true
   },
   "outputs": [
    {
     "ename": "DriverError",
     "evalue": "C:\\Users\\ishaa\\Documents\\DataAnalysis\\IND_adm1.csv: No such file or directory",
     "output_type": "error",
     "traceback": [
      "\u001b[1;31m---------------------------------------------------------------------------\u001b[0m",
      "\u001b[1;31mCPLE_OpenFailedError\u001b[0m                      Traceback (most recent call last)",
      "\u001b[1;32mfiona/_shim.pyx\u001b[0m in \u001b[0;36mfiona._shim.gdal_open_vector\u001b[1;34m()\u001b[0m\n",
      "\u001b[1;32mfiona/_err.pyx\u001b[0m in \u001b[0;36mfiona._err.exc_wrap_pointer\u001b[1;34m()\u001b[0m\n",
      "\u001b[1;31mCPLE_OpenFailedError\u001b[0m: C:\\Users\\ishaa\\Documents\\DataAnalysis\\IND_adm1.csv: No such file or directory",
      "\nDuring handling of the above exception, another exception occurred:\n",
      "\u001b[1;31mDriverError\u001b[0m                               Traceback (most recent call last)",
      "\u001b[1;32m<ipython-input-71-117018c7bfcb>\u001b[0m in \u001b[0;36m<module>\u001b[1;34m\u001b[0m\n\u001b[1;32m----> 1\u001b[1;33m \u001b[0mind_dist\u001b[0m \u001b[1;33m=\u001b[0m \u001b[0mgpd\u001b[0m\u001b[1;33m.\u001b[0m\u001b[0mread_file\u001b[0m\u001b[1;33m(\u001b[0m\u001b[1;34mr'C:\\Users\\ishaa\\Documents\\DataAnalysis\\IND_adm1.csv'\u001b[0m\u001b[1;33m)\u001b[0m\u001b[1;33m\u001b[0m\u001b[1;33m\u001b[0m\u001b[0m\n\u001b[0m\u001b[0;32m      2\u001b[0m \u001b[0mind_dist\u001b[0m \u001b[1;33m=\u001b[0m \u001b[0mind_dist\u001b[0m\u001b[1;33m[\u001b[0m\u001b[1;33m[\u001b[0m\u001b[1;34m'NAME_1'\u001b[0m\u001b[1;33m,\u001b[0m\u001b[1;34m'geometry'\u001b[0m\u001b[1;33m]\u001b[0m\u001b[1;33m]\u001b[0m\u001b[1;33m\u001b[0m\u001b[1;33m\u001b[0m\u001b[0m\n\u001b[0;32m      3\u001b[0m \u001b[0mind_dist\u001b[0m\u001b[1;33m.\u001b[0m\u001b[0mrename\u001b[0m\u001b[1;33m(\u001b[0m\u001b[0mcolumns\u001b[0m \u001b[1;33m=\u001b[0m \u001b[1;33m{\u001b[0m\u001b[1;34m'NAME_1'\u001b[0m \u001b[1;33m:\u001b[0m \u001b[1;34m'State'\u001b[0m\u001b[1;33m}\u001b[0m\u001b[1;33m,\u001b[0m \u001b[0minplace\u001b[0m \u001b[1;33m=\u001b[0m \u001b[1;32mTrue\u001b[0m\u001b[1;33m)\u001b[0m\u001b[1;33m\u001b[0m\u001b[1;33m\u001b[0m\u001b[0m\n",
      "\u001b[1;32mC:\\anaconda\\envs\\geo_env\\lib\\site-packages\\geopandas\\io\\file.py\u001b[0m in \u001b[0;36m_read_file\u001b[1;34m(filename, bbox, mask, rows, **kwargs)\u001b[0m\n\u001b[0;32m    158\u001b[0m \u001b[1;33m\u001b[0m\u001b[0m\n\u001b[0;32m    159\u001b[0m     \u001b[1;32mwith\u001b[0m \u001b[0mfiona_env\u001b[0m\u001b[1;33m(\u001b[0m\u001b[1;33m)\u001b[0m\u001b[1;33m:\u001b[0m\u001b[1;33m\u001b[0m\u001b[1;33m\u001b[0m\u001b[0m\n\u001b[1;32m--> 160\u001b[1;33m         \u001b[1;32mwith\u001b[0m \u001b[0mreader\u001b[0m\u001b[1;33m(\u001b[0m\u001b[0mpath_or_bytes\u001b[0m\u001b[1;33m,\u001b[0m \u001b[1;33m**\u001b[0m\u001b[0mkwargs\u001b[0m\u001b[1;33m)\u001b[0m \u001b[1;32mas\u001b[0m \u001b[0mfeatures\u001b[0m\u001b[1;33m:\u001b[0m\u001b[1;33m\u001b[0m\u001b[1;33m\u001b[0m\u001b[0m\n\u001b[0m\u001b[0;32m    161\u001b[0m \u001b[1;33m\u001b[0m\u001b[0m\n\u001b[0;32m    162\u001b[0m             \u001b[1;31m# In a future Fiona release the crs attribute of features will\u001b[0m\u001b[1;33m\u001b[0m\u001b[1;33m\u001b[0m\u001b[1;33m\u001b[0m\u001b[0m\n",
      "\u001b[1;32mC:\\anaconda\\envs\\geo_env\\lib\\site-packages\\fiona\\env.py\u001b[0m in \u001b[0;36mwrapper\u001b[1;34m(*args, **kwargs)\u001b[0m\n\u001b[0;32m    396\u001b[0m     \u001b[1;32mdef\u001b[0m \u001b[0mwrapper\u001b[0m\u001b[1;33m(\u001b[0m\u001b[1;33m*\u001b[0m\u001b[0margs\u001b[0m\u001b[1;33m,\u001b[0m \u001b[1;33m**\u001b[0m\u001b[0mkwargs\u001b[0m\u001b[1;33m)\u001b[0m\u001b[1;33m:\u001b[0m\u001b[1;33m\u001b[0m\u001b[1;33m\u001b[0m\u001b[0m\n\u001b[0;32m    397\u001b[0m         \u001b[1;32mif\u001b[0m \u001b[0mlocal\u001b[0m\u001b[1;33m.\u001b[0m\u001b[0m_env\u001b[0m\u001b[1;33m:\u001b[0m\u001b[1;33m\u001b[0m\u001b[1;33m\u001b[0m\u001b[0m\n\u001b[1;32m--> 398\u001b[1;33m             \u001b[1;32mreturn\u001b[0m \u001b[0mf\u001b[0m\u001b[1;33m(\u001b[0m\u001b[1;33m*\u001b[0m\u001b[0margs\u001b[0m\u001b[1;33m,\u001b[0m \u001b[1;33m**\u001b[0m\u001b[0mkwargs\u001b[0m\u001b[1;33m)\u001b[0m\u001b[1;33m\u001b[0m\u001b[1;33m\u001b[0m\u001b[0m\n\u001b[0m\u001b[0;32m    399\u001b[0m         \u001b[1;32melse\u001b[0m\u001b[1;33m:\u001b[0m\u001b[1;33m\u001b[0m\u001b[1;33m\u001b[0m\u001b[0m\n\u001b[0;32m    400\u001b[0m             \u001b[1;32mif\u001b[0m \u001b[0misinstance\u001b[0m\u001b[1;33m(\u001b[0m\u001b[0margs\u001b[0m\u001b[1;33m[\u001b[0m\u001b[1;36m0\u001b[0m\u001b[1;33m]\u001b[0m\u001b[1;33m,\u001b[0m \u001b[0mstr\u001b[0m\u001b[1;33m)\u001b[0m\u001b[1;33m:\u001b[0m\u001b[1;33m\u001b[0m\u001b[1;33m\u001b[0m\u001b[0m\n",
      "\u001b[1;32mC:\\anaconda\\envs\\geo_env\\lib\\site-packages\\fiona\\__init__.py\u001b[0m in \u001b[0;36mopen\u001b[1;34m(fp, mode, driver, schema, crs, encoding, layer, vfs, enabled_drivers, crs_wkt, **kwargs)\u001b[0m\n\u001b[0;32m    251\u001b[0m \u001b[1;33m\u001b[0m\u001b[0m\n\u001b[0;32m    252\u001b[0m         \u001b[1;32mif\u001b[0m \u001b[0mmode\u001b[0m \u001b[1;32min\u001b[0m \u001b[1;33m(\u001b[0m\u001b[1;34m'a'\u001b[0m\u001b[1;33m,\u001b[0m \u001b[1;34m'r'\u001b[0m\u001b[1;33m)\u001b[0m\u001b[1;33m:\u001b[0m\u001b[1;33m\u001b[0m\u001b[1;33m\u001b[0m\u001b[0m\n\u001b[1;32m--> 253\u001b[1;33m             c = Collection(path, mode, driver=driver, encoding=encoding,\n\u001b[0m\u001b[0;32m    254\u001b[0m                            layer=layer, enabled_drivers=enabled_drivers, **kwargs)\n\u001b[0;32m    255\u001b[0m         \u001b[1;32melif\u001b[0m \u001b[0mmode\u001b[0m \u001b[1;33m==\u001b[0m \u001b[1;34m'w'\u001b[0m\u001b[1;33m:\u001b[0m\u001b[1;33m\u001b[0m\u001b[1;33m\u001b[0m\u001b[0m\n",
      "\u001b[1;32mC:\\anaconda\\envs\\geo_env\\lib\\site-packages\\fiona\\collection.py\u001b[0m in \u001b[0;36m__init__\u001b[1;34m(self, path, mode, driver, schema, crs, encoding, layer, vsi, archive, enabled_drivers, crs_wkt, ignore_fields, ignore_geometry, **kwargs)\u001b[0m\n\u001b[0;32m    152\u001b[0m             \u001b[1;32mif\u001b[0m \u001b[0mself\u001b[0m\u001b[1;33m.\u001b[0m\u001b[0mmode\u001b[0m \u001b[1;33m==\u001b[0m \u001b[1;34m'r'\u001b[0m\u001b[1;33m:\u001b[0m\u001b[1;33m\u001b[0m\u001b[1;33m\u001b[0m\u001b[0m\n\u001b[0;32m    153\u001b[0m                 \u001b[0mself\u001b[0m\u001b[1;33m.\u001b[0m\u001b[0msession\u001b[0m \u001b[1;33m=\u001b[0m \u001b[0mSession\u001b[0m\u001b[1;33m(\u001b[0m\u001b[1;33m)\u001b[0m\u001b[1;33m\u001b[0m\u001b[1;33m\u001b[0m\u001b[0m\n\u001b[1;32m--> 154\u001b[1;33m                 \u001b[0mself\u001b[0m\u001b[1;33m.\u001b[0m\u001b[0msession\u001b[0m\u001b[1;33m.\u001b[0m\u001b[0mstart\u001b[0m\u001b[1;33m(\u001b[0m\u001b[0mself\u001b[0m\u001b[1;33m,\u001b[0m \u001b[1;33m**\u001b[0m\u001b[0mkwargs\u001b[0m\u001b[1;33m)\u001b[0m\u001b[1;33m\u001b[0m\u001b[1;33m\u001b[0m\u001b[0m\n\u001b[0m\u001b[0;32m    155\u001b[0m             \u001b[1;32melif\u001b[0m \u001b[0mself\u001b[0m\u001b[1;33m.\u001b[0m\u001b[0mmode\u001b[0m \u001b[1;32min\u001b[0m \u001b[1;33m(\u001b[0m\u001b[1;34m'a'\u001b[0m\u001b[1;33m,\u001b[0m \u001b[1;34m'w'\u001b[0m\u001b[1;33m)\u001b[0m\u001b[1;33m:\u001b[0m\u001b[1;33m\u001b[0m\u001b[1;33m\u001b[0m\u001b[0m\n\u001b[0;32m    156\u001b[0m                 \u001b[0mself\u001b[0m\u001b[1;33m.\u001b[0m\u001b[0msession\u001b[0m \u001b[1;33m=\u001b[0m \u001b[0mWritingSession\u001b[0m\u001b[1;33m(\u001b[0m\u001b[1;33m)\u001b[0m\u001b[1;33m\u001b[0m\u001b[1;33m\u001b[0m\u001b[0m\n",
      "\u001b[1;32mfiona/ogrext.pyx\u001b[0m in \u001b[0;36mfiona.ogrext.Session.start\u001b[1;34m()\u001b[0m\n",
      "\u001b[1;32mfiona/_shim.pyx\u001b[0m in \u001b[0;36mfiona._shim.gdal_open_vector\u001b[1;34m()\u001b[0m\n",
      "\u001b[1;31mDriverError\u001b[0m: C:\\Users\\ishaa\\Documents\\DataAnalysis\\IND_adm1.csv: No such file or directory"
     ]
    }
   ],
   "source": [
    "ind_dist = gpd.read_file(r'C:\\Users\\ishaa\\Documents\\DataAnalysis\\IND_adm1.csv')\n",
    "ind_dist = ind_dist[['NAME_1','geometry']]\n",
    "ind_dist.rename(columns = {'NAME_1' : 'State'}, inplace = True)"
   ]
  },
  {
   "cell_type": "code",
   "execution_count": 48,
   "id": "119f6d65",
   "metadata": {
    "scrolled": true
   },
   "outputs": [
    {
     "ename": "SyntaxError",
     "evalue": "unexpected EOF while parsing (<ipython-input-48-0bd9d9d5a29b>, line 1)",
     "output_type": "error",
     "traceback": [
      "\u001b[1;36m  File \u001b[1;32m\"<ipython-input-48-0bd9d9d5a29b>\"\u001b[1;36m, line \u001b[1;32m1\u001b[0m\n\u001b[1;33m    list_of_orders.replace('Kerala ','Kerala',inplace = True\u001b[0m\n\u001b[1;37m                                                            ^\u001b[0m\n\u001b[1;31mSyntaxError\u001b[0m\u001b[1;31m:\u001b[0m unexpected EOF while parsing\n"
     ]
    }
   ],
   "source": [
    "list_of_orders.replace('Kerala ','Kerala',inplace = True"
   ]
  },
  {
   "cell_type": "code",
   "execution_count": 32,
   "id": "143ba494",
   "metadata": {},
   "outputs": [],
   "source": [
    "orders = list_of_orders.groupby(['State']).count()['Order ID']\n",
    "ind_dist = ind_dist.merge(orders, how = 'left', on='State')\n",
    "ind_dist.rename(columns={'Order ID':'Orders'},inplace=True)\n",
    "ind_dist['Orders'] = ind_dist['Orders'].fillna(0)"
   ]
  },
  {
   "cell_type": "code",
   "execution_count": 44,
   "id": "a2cfd70b",
   "metadata": {
    "scrolled": true
   },
   "outputs": [
    {
     "ename": "AttributeError",
     "evalue": "'dict' object has no attribute 'plot'",
     "output_type": "error",
     "traceback": [
      "\u001b[1;31m---------------------------------------------------------------------------\u001b[0m",
      "\u001b[1;31mAttributeError\u001b[0m                            Traceback (most recent call last)",
      "\u001b[1;32m<ipython-input-44-5aa227a1f217>\u001b[0m in \u001b[0;36m<module>\u001b[1;34m\u001b[0m\n\u001b[0;32m      4\u001b[0m \u001b[0mcax\u001b[0m \u001b[1;33m=\u001b[0m \u001b[0mdivider\u001b[0m\u001b[1;33m.\u001b[0m\u001b[0mappend_axes\u001b[0m\u001b[1;33m(\u001b[0m\u001b[0mposition\u001b[0m \u001b[1;33m=\u001b[0m \u001b[1;34m'right'\u001b[0m\u001b[1;33m,\u001b[0m \u001b[0msize\u001b[0m \u001b[1;33m=\u001b[0m \u001b[1;34m'7%'\u001b[0m\u001b[1;33m,\u001b[0m \u001b[0mpad\u001b[0m \u001b[1;33m=\u001b[0m \u001b[1;36m0.1\u001b[0m\u001b[1;33m)\u001b[0m\u001b[1;33m\u001b[0m\u001b[1;33m\u001b[0m\u001b[0m\n\u001b[0;32m      5\u001b[0m \u001b[1;33m\u001b[0m\u001b[0m\n\u001b[1;32m----> 6\u001b[1;33m ind_dist.plot(column = 'Orders', legend = True, cmap = 'Oranges_r', ax = ax, cax = cax,\n\u001b[0m\u001b[0;32m      7\u001b[0m              legend_kwds = {'label':'# of orders'}, alpha=0.8, edgecolor='k', linewidth=0.2)\n\u001b[0;32m      8\u001b[0m \u001b[1;33m\u001b[0m\u001b[0m\n",
      "\u001b[1;31mAttributeError\u001b[0m: 'dict' object has no attribute 'plot'"
     ]
    },
    {
     "data": {
      "image/png": "[encoded data removed]",
      "text/plain": [
       "<Figure size 720x720 with 2 Axes>"
      ]
     },
     "metadata": {
      "needs_background": "light"
     },
     "output_type": "display_data"
    }
   ],
   "source": [
    "fig, ax = plt.subplots(figsize = (10,10))\n",
    "\n",
    "divider = make_axes_locatable(ax)\n",
    "cax = divider.append_axes(position = 'right', size = '7%', pad = 0.1)\n",
    "\n",
    "ind_dist.plot(column = 'Orders', legend = True, cmap = 'Oranges_r', ax = ax, cax = cax,\n",
    "             legend_kwds = {'label':'# of orders'}, alpha=0.8, edgecolor='k', linewidth=0.2)\n",
    "\n",
    "city_map.plot(ax=ax, marker='o', color='r', markersize=45, edgecolor = 'k')\n",
    "\n",
    "ax.set_title('# of orders by states in India', fontsize = 18)\n",
    "ax.get_xaxis().set_visible(False)\n",
    "ax.get_yaxis().set_visible(False)\n",
    "\n",
    "plt.show()"
   ]
  },
  {
   "cell_type": "code",
   "execution_count": null,
   "id": "e9016f5a",
   "metadata": {},
   "outputs": [],
   "source": []
  }
 ],
 "metadata": {
  "kernelspec": {
   "display_name": "Python 3",
   "language": "python",
   "name": "python3"
  },
  "language_info": {
   "codemirror_mode": {
    "name": "ipython",
    "version": 3
   },
   "file_extension": ".py",
   "mimetype": "text/x-python",
   "name": "python",
   "nbconvert_exporter": "python",
   "pygments_lexer": "ipython3",
   "version": "3.8.10"
  }
 },
 "nbformat": 4,
 "nbformat_minor": 5
}
